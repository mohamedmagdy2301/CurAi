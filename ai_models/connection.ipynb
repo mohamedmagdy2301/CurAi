{
 "cells": [
  {
   "cell_type": "code",
   "execution_count": 2,
   "id": "649d83d5",
   "metadata": {},
   "outputs": [
    {
     "name": "stdout",
     "output_type": "stream",
     "text": [
      "Hello! I'm here to assist you with any medical inquiries. Please enter your symptoms or medical condition.\n",
      "\n",
      "Predicted: urinary tract infection - Specialization: Infectious Diseases\n",
      " I'm just an AI assistant providing an initial assessment.\n",
      "For your safety, please consult a doctor for an accurate diagnosis and proper medical advice. \n"
     ]
    }
   ],
   "source": [
    "import string\n",
    "from nltk.tokenize import word_tokenize\n",
    "from nltk.corpus import stopwords\n",
    "from nltk.stem import WordNetLemmatizer\n",
    "import joblib\n",
    "\n",
    "\n",
    "stop_words = set(stopwords.words(\"english\")) - {\"not\", \"no\"}\n",
    "lemmatizer = WordNetLemmatizer()\n",
    "\n",
    "def preprocess_text(text):\n",
    "    if not isinstance(text, str) or text.strip() == \"\":  \n",
    "        return \"\"\n",
    "    text = text.lower()  \n",
    "    text = text.translate(str.maketrans('', '', string.punctuation))  \n",
    "    tokens = word_tokenize(text)  \n",
    "    tokens = [word for word in tokens if word not in stop_words and word.isalpha()]  \n",
    "    tokens = [lemmatizer.lemmatize(word) for word in tokens]  \n",
    "    return ' '.join(tokens)\n",
    "\n",
    "\n",
    "models = joblib.load(\"chatbot_models.pkl\")\n",
    "\n",
    "medical_classifier = models[\"medical_classifier\"]\n",
    "disease_classifier = models[\"disease_and_specialization_classifier\"]\n",
    "label_encoder = models[\"label_encoder\"]\n",
    "\n",
    "print(\"Hello! I'm here to assist you with any medical inquiries. Please enter your symptoms or medical condition.\")\n",
    "new_symptom = input(\"Enter your symptoms: \")\n",
    "\n",
    "processed_symptom = preprocess_text(new_symptom)\n",
    "\n",
    "prediction = medical_classifier.predict([processed_symptom])\n",
    "\n",
    "if prediction[0] == 1:\n",
    "    predicted_label_encoded = disease_classifier.predict([processed_symptom])[0]\n",
    "    disease_label = label_encoder.inverse_transform([predicted_label_encoded])[0]\n",
    "    \n",
    "    print(f\"\\nPredicted: {disease_label}\")\n",
    "    print(\" I'm just an AI assistant providing an initial assessment.\\nFor your safety, please consult a doctor for an accurate diagnosis and proper medical advice. \")\n",
    "else:\n",
    "    print(\"Sorry, please enter a text related to the medical field so I can assist you \")"
   ]
  },
  {
   "cell_type": "code",
   "execution_count": 3,
   "id": "552477a3",
   "metadata": {},
   "outputs": [
    {
     "name": "stdout",
     "output_type": "stream",
     "text": [
      "Hello! I'm here to assist you with any medical inquiries.\n",
      "\n",
      "Predicted Disease: gastroesophageal reflux disease\n",
      "Recommended Specialization: Specialization: Gastroenterology\n",
      "⚠️ Please consult a real doctor for accurate diagnosis.\n"
     ]
    }
   ],
   "source": [
    "import string\n",
    "from nltk.tokenize import word_tokenize\n",
    "from nltk.corpus import stopwords\n",
    "from nltk.stem import WordNetLemmatizer\n",
    "import joblib\n",
    "\n",
    "stop_words = set(stopwords.words(\"english\")) - {\"not\", \"no\"}\n",
    "lemmatizer = WordNetLemmatizer()\n",
    "\n",
    "def preprocess_text(text):\n",
    "    if not isinstance(text, str) or text.strip() == \"\":\n",
    "        return \"\"\n",
    "    text = text.lower()\n",
    "    text = text.translate(str.maketrans('', '', string.punctuation))\n",
    "    tokens = word_tokenize(text)\n",
    "    tokens = [word for word in tokens if word not in stop_words and word.isalpha()]\n",
    "    tokens = [lemmatizer.lemmatize(word) for word in tokens]\n",
    "    return ' '.join(tokens)\n",
    "\n",
    "# Load models\n",
    "models = joblib.load(\"chatbot_models.pkl\")\n",
    "medical_classifier = models[\"medical_classifier\"]\n",
    "disease_classifier = models[\"disease_and_specialization_classifier\"]\n",
    "label_encoder = models[\"label_encoder\"]\n",
    "\n",
    "print(\"Hello! I'm here to assist you with any medical inquiries.\")\n",
    "new_symptom = input(\"Enter your symptoms: \")\n",
    "\n",
    "processed_symptom = preprocess_text(new_symptom)\n",
    "\n",
    "if not processed_symptom:\n",
    "    print(\"Please enter a valid medical symptom description.\")\n",
    "elif medical_classifier.predict([processed_symptom])[0] == 1:\n",
    "    encoded_label = disease_classifier.predict([processed_symptom])[0]\n",
    "    disease_label = label_encoder.inverse_transform([encoded_label])[0]\n",
    "\n",
    "    if \" - \" in disease_label:\n",
    "        disease, specialization = disease_label.split(\" - \")\n",
    "    else:\n",
    "        disease = disease_label\n",
    "        specialization = \"General Physician\"\n",
    "\n",
    "    print(f\"\\nPredicted Disease: {disease}\")\n",
    "    print(f\"Recommended Specialization: {specialization}\")\n",
    "    print(\"⚠️ Please consult a real doctor for accurate diagnosis.\")\n",
    "else:\n",
    "    print(\"Sorry, I can only assist with medical-related questions.\")\n"
   ]
  },
  {
   "cell_type": "code",
   "execution_count": null,
   "id": "309148c4",
   "metadata": {},
   "outputs": [],
   "source": []
  }
 ],
 "metadata": {
  "kernelspec": {
   "display_name": "Python 3",
   "language": "python",
   "name": "python3"
  },
  "language_info": {
   "codemirror_mode": {
    "name": "ipython",
    "version": 3
   },
   "file_extension": ".py",
   "mimetype": "text/x-python",
   "name": "python",
   "nbconvert_exporter": "python",
   "pygments_lexer": "ipython3",
   "version": "3.13.2"
  }
 },
 "nbformat": 4,
 "nbformat_minor": 5
}
